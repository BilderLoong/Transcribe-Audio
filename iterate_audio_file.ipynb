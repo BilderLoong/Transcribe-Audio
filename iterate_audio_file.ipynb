{
 "cells": [
  {
   "cell_type": "code",
   "execution_count": null,
   "metadata": {},
   "outputs": [],
   "source": []
  },
  {
   "cell_type": "code",
   "execution_count": 24,
   "metadata": {},
   "outputs": [
    {
     "name": "stdout",
     "output_type": "stream",
     "text": [
      "lai\n",
      "bao\n",
      "guang\n"
     ]
    }
   ],
   "source": [
    "from pathlib import Path\n",
    "\n",
    "directory = Path.cwd()\n",
    "# def iterate_audio_file_recursively(dir_path: Path):\n",
    "#     def is_audio_file(file_extension: str):\n",
    "#         audio_extensions = [\".mp3\", \".wav\", \".mp4\", \".ogg\", \".flac\", \".aac\"]\n",
    "#         return file_extension in audio_extensions\n",
    "\n",
    "#     for file in dir_path.glob('**/*'):\n",
    "#         if is_audio_file(file_extension=file.suffix):\n",
    "#             yield file\n",
    "\n",
    "\n",
    "# def iterate_audio_files_recursively(dir_path: Path):\n",
    "#     audio_extensions = {\".mp3\", \".wav\", \".mp4\", \".ogg\", \".flac\", \".aac\"}\n",
    "\n",
    "#     for file in dir_path.glob(\"**/*\"):\n",
    "#         if file.suffix in audio_extensions:\n",
    "#             yield file\n",
    "\n",
    "\n",
    "# def iterate_audio_files_recursively(dir_path: Path):\n",
    "#     audio_extensions = {}\n",
    "#     audio_files = dir_path.glob(\"**/*\")\n",
    "#     audio_files = filter(lambda file: file.suffix in audio_extensions, audio_files)\n",
    "#     yield from audio_files\n",
    "def demo():\n",
    "    yield 'lai'\n",
    "    yield 'bao'\n",
    "    yield 'guang'\n",
    "    \n",
    "a = demo()\n",
    "print(next(a)   )\n",
    "print(next(a)   )\n",
    "print(next(a)   )\n"
   ]
  },
  {
   "cell_type": "code",
   "execution_count": null,
   "metadata": {},
   "outputs": [],
   "source": []
  }
 ],
 "metadata": {
  "kernelspec": {
   "display_name": "subai",
   "language": "python",
   "name": "python3"
  },
  "language_info": {
   "codemirror_mode": {
    "name": "ipython",
    "version": 3
   },
   "file_extension": ".py",
   "mimetype": "text/x-python",
   "name": "python",
   "nbconvert_exporter": "python",
   "pygments_lexer": "ipython3",
   "version": "3.11.5"
  },
  "orig_nbformat": 4
 },
 "nbformat": 4,
 "nbformat_minor": 2
}
