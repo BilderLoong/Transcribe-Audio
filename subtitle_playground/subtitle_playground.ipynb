{
 "cells": [
  {
   "cell_type": "code",
   "execution_count": 1,
   "metadata": {},
   "outputs": [],
   "source": [
    "SIMPLE_FILE = \"\"\"\\\n",
    "1\n",
    "00:00:00,000 --> 00:01:00,000\n",
    "Once upon a time,\n",
    "\n",
    "2\n",
    "00:01:00,000 --> 00:02:00,000\n",
    "there was a SubRip file\n",
    "with two subtitles.\n",
    "\"\"\"\n",
    "with open(\"subtitles.srt\", \"w\") as fp:\n",
    "     fp.write(SIMPLE_FILE)\n"
   ]
  },
  {
   "cell_type": "code",
   "execution_count": 27,
   "metadata": {},
   "outputs": [],
   "source": [
    "import pysubs2,json\n",
    "from pathlib import Path\n",
    "subs = pysubs2.load(\"subtitles.srt\")\n",
    "\n",
    "with open(\"002 - 一九八四年〔新訳版〕_large-v2.json\",encoding='utf-8') as file:\n",
    "    sub_dict = json.load(file)\n",
    "    subs = pysubs2.load_from_whisper(sub_dict)\n",
    "\n",
    "subs.save('test.srt')"
   ]
  }
 ],
 "metadata": {
  "kernelspec": {
   "display_name": "subai",
   "language": "python",
   "name": "python3"
  },
  "language_info": {
   "codemirror_mode": {
    "name": "ipython",
    "version": 3
   },
   "file_extension": ".py",
   "mimetype": "text/x-python",
   "name": "python",
   "nbconvert_exporter": "python",
   "pygments_lexer": "ipython3",
   "version": "3.11.0"
  },
  "orig_nbformat": 4
 },
 "nbformat": 4,
 "nbformat_minor": 2
}
